{
 "cells": [
  {
   "cell_type": "code",
   "execution_count": 1,
   "id": "initial_id",
   "metadata": {
    "collapsed": true,
    "ExecuteTime": {
     "end_time": "2024-07-20T01:51:32.752170Z",
     "start_time": "2024-07-20T01:51:32.068196Z"
    }
   },
   "outputs": [],
   "source": [
    "import pandas as pd"
   ]
  },
  {
   "cell_type": "code",
   "execution_count": 3,
   "outputs": [
    {
     "data": {
      "text/plain": "   sepal_length  sepal_width  petal_length  petal_width species\n0           5.1          3.5           1.4          0.2  setosa\n1           4.9          3.0           1.4          0.2  setosa\n2           4.7          3.2           1.3          0.2  setosa\n3           4.6          3.1           1.5          0.2  setosa\n4           5.0          3.6           1.4          0.2  setosa",
      "text/html": "<div>\n<style scoped>\n    .dataframe tbody tr th:only-of-type {\n        vertical-align: middle;\n    }\n\n    .dataframe tbody tr th {\n        vertical-align: top;\n    }\n\n    .dataframe thead th {\n        text-align: right;\n    }\n</style>\n<table border=\"1\" class=\"dataframe\">\n  <thead>\n    <tr style=\"text-align: right;\">\n      <th></th>\n      <th>sepal_length</th>\n      <th>sepal_width</th>\n      <th>petal_length</th>\n      <th>petal_width</th>\n      <th>species</th>\n    </tr>\n  </thead>\n  <tbody>\n    <tr>\n      <th>0</th>\n      <td>5.1</td>\n      <td>3.5</td>\n      <td>1.4</td>\n      <td>0.2</td>\n      <td>setosa</td>\n    </tr>\n    <tr>\n      <th>1</th>\n      <td>4.9</td>\n      <td>3.0</td>\n      <td>1.4</td>\n      <td>0.2</td>\n      <td>setosa</td>\n    </tr>\n    <tr>\n      <th>2</th>\n      <td>4.7</td>\n      <td>3.2</td>\n      <td>1.3</td>\n      <td>0.2</td>\n      <td>setosa</td>\n    </tr>\n    <tr>\n      <th>3</th>\n      <td>4.6</td>\n      <td>3.1</td>\n      <td>1.5</td>\n      <td>0.2</td>\n      <td>setosa</td>\n    </tr>\n    <tr>\n      <th>4</th>\n      <td>5.0</td>\n      <td>3.6</td>\n      <td>1.4</td>\n      <td>0.2</td>\n      <td>setosa</td>\n    </tr>\n  </tbody>\n</table>\n</div>"
     },
     "execution_count": 3,
     "metadata": {},
     "output_type": "execute_result"
    }
   ],
   "source": [
    "# Load the Iris dataset from seaborn's built-in datasets\n",
    "iris_url = \"https://raw.githubusercontent.com/mwaskom/seaborn-data/master/iris.csv\"\n",
    "iris = pd.read_csv(iris_url)\n",
    "\n",
    "# Display the first few rows of the dataset\n",
    "iris.head()"
   ],
   "metadata": {
    "collapsed": false,
    "ExecuteTime": {
     "end_time": "2024-07-20T01:51:39.777831Z",
     "start_time": "2024-07-20T01:51:39.494991Z"
    }
   },
   "id": "16027e68cb2f6d6b"
  },
  {
   "cell_type": "code",
   "execution_count": 4,
   "outputs": [
    {
     "name": "stdout",
     "output_type": "stream",
     "text": [
      "Probability of each species:\n",
      "species\n",
      "setosa        0.333333\n",
      "versicolor    0.333333\n",
      "virginica     0.333333\n",
      "Name: count, dtype: float64\n",
      "\n",
      "Conditional probability of each species given sepal length > 5.0:\n",
      "species\n",
      "virginica     0.415254\n",
      "versicolor    0.398305\n",
      "setosa        0.186441\n",
      "Name: count, dtype: float64\n"
     ]
    }
   ],
   "source": [
    "# Step 2: Calculate Probabilities\n",
    "species_counts = iris['species'].value_counts()\n",
    "total_count = len(iris)\n",
    "species_probabilities = species_counts / total_count\n",
    "\n",
    "print(\"Probability of each species:\")\n",
    "print(species_probabilities)\n",
    "print()\n",
    "\n",
    "# Step 3: Calculate Conditional Probabilities\n",
    "condition = iris['sepal_length'] > 5.0\n",
    "conditional_species_counts = iris[condition]['species'].value_counts()\n",
    "conditional_total_count = len(iris[condition])\n",
    "conditional_species_probabilities = conditional_species_counts / conditional_total_count\n",
    "print(\"Conditional probability of each species given sepal length > 5.0:\")\n",
    "print(conditional_species_probabilities)\n",
    "print()\n",
    "\n",
    "## As an exercise, calculate the probability of the sepal length > 0.5 given that the \n",
    "# petal length is greater than 1.2\n"
   ],
   "metadata": {
    "collapsed": false,
    "ExecuteTime": {
     "end_time": "2024-07-20T01:51:50.328486Z",
     "start_time": "2024-07-20T01:51:50.322822Z"
    }
   },
   "id": "5e88f6631621c8df"
  },
  {
   "cell_type": "code",
   "execution_count": 5,
   "outputs": [
    {
     "name": "stdout",
     "output_type": "stream",
     "text": [
      "Expectation (mean) of sepal length and petal length for each species:\n",
      "            sepal_length  petal_length\n",
      "species                               \n",
      "setosa             5.006         1.462\n",
      "versicolor         5.936         4.260\n",
      "virginica          6.588         5.552\n"
     ]
    }
   ],
   "source": [
    "# Step 4: Calculate Expectations\n",
    "# see group by documentation here: https://pandas.pydata.org/pandas-docs/stable/reference/api/pandas.DataFrame.groupby.html\n",
    "species_means = iris.groupby('species')[['sepal_length', 'petal_length']].mean()\n",
    "\n",
    "print(\"Expectation (mean) of sepal length and petal length for each species:\")\n",
    "print(species_means)\n",
    "print()"
   ],
   "metadata": {
    "collapsed": false,
    "ExecuteTime": {
     "end_time": "2024-07-20T01:53:23.225104Z",
     "start_time": "2024-07-20T01:53:23.212153Z"
    }
   },
   "id": "72a66634ae185fc"
  },
  {
   "cell_type": "code",
   "execution_count": 6,
   "outputs": [
    {
     "name": "stdout",
     "output_type": "stream",
     "text": [
      "Variance of sepal length and petal length for each species:\n",
      "            sepal_length  petal_length\n",
      "species                               \n",
      "setosa          0.124249      0.030159\n",
      "versicolor      0.266433      0.220816\n",
      "virginica       0.404343      0.304588\n"
     ]
    }
   ],
   "source": [
    "# Step 5: Calculate Variances\n",
    "species_variances = iris.groupby('species')[['sepal_length', 'petal_length']].var()\n",
    "\n",
    "print(\"Variance of sepal length and petal length for each species:\")\n",
    "print(species_variances)\n",
    "print()"
   ],
   "metadata": {
    "collapsed": false,
    "ExecuteTime": {
     "end_time": "2024-07-20T01:53:24.027547Z",
     "start_time": "2024-07-20T01:53:24.021601Z"
    }
   },
   "id": "3772fdd7d05ac34b"
  },
  {
   "cell_type": "code",
   "execution_count": null,
   "outputs": [],
   "source": [],
   "metadata": {
    "collapsed": false
   },
   "id": "518f9be90863ee4c"
  }
 ],
 "metadata": {
  "kernelspec": {
   "display_name": "Python 3",
   "language": "python",
   "name": "python3"
  },
  "language_info": {
   "codemirror_mode": {
    "name": "ipython",
    "version": 2
   },
   "file_extension": ".py",
   "mimetype": "text/x-python",
   "name": "python",
   "nbconvert_exporter": "python",
   "pygments_lexer": "ipython2",
   "version": "2.7.6"
  }
 },
 "nbformat": 4,
 "nbformat_minor": 5
}
