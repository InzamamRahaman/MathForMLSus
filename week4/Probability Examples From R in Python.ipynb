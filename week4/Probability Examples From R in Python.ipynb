{
 "cells": [
  {
   "cell_type": "code",
   "execution_count": 23,
   "id": "initial_id",
   "metadata": {
    "collapsed": true,
    "ExecuteTime": {
     "end_time": "2024-07-20T00:44:31.321689Z",
     "start_time": "2024-07-20T00:44:29.630534Z"
    }
   },
   "outputs": [],
   "source": [
    "import numpy as np # for array manipulation and random number generation\n",
    "import random # for sampling\n",
    "import math # to calculate the permutations and combinations\n",
    "from scipy import stats # for statistical operations \n",
    "import pandas as pd # for I/O and manipulation of tabular datasets"
   ]
  },
  {
   "cell_type": "markdown",
   "source": [
    "# Chapter 1"
   ],
   "metadata": {
    "collapsed": false
   },
   "id": "e49e43532f61e700"
  },
  {
   "cell_type": "markdown",
   "source": [
    "## Factorials and binomial coefficients and Sampling and simulation"
   ],
   "metadata": {
    "collapsed": false
   },
   "id": "a46c963fd5fa155e"
  },
  {
   "cell_type": "code",
   "execution_count": 12,
   "outputs": [
    {
     "name": "stdout",
     "output_type": "stream",
     "text": [
      "3628800\n",
      "435\n",
      "[6, 10, 3, 8, 9]\n",
      "[10, 5, 7, 2, 5]\n",
      "[3, 3, 4]\n"
     ]
    }
   ],
   "source": [
    "# port of Chapter 1 R code\n",
    "\n",
    "# to calculate permutations and combinations\n",
    "factorial_of_10 = math.factorial(10)\n",
    "combination_of_2_from_30_items = math.comb(30, 2)\n",
    "print(factorial_of_10)\n",
    "print(combination_of_2_from_30_items)\n",
    "\n",
    "# to sample from a range\n",
    "sample_without_replacement = random.sample(range(1, 10 + 1),  k=5) # sample 1 to 10 without replacement\n",
    "sample_with_replacement = random.choices(range(1, 10 + 1),  k=5) # sample 1 to 10 with replacement\n",
    "unequal_sample_with_replacement = random.choices(range(1, 4 + 1), weights=[0.1, 0.2, 0.3, 0.4], k=3)\n",
    "print(sample_without_replacement)\n",
    "print(sample_with_replacement)\n",
    "print(unequal_sample_with_replacement)\n",
    "\n"
   ],
   "metadata": {
    "collapsed": false,
    "ExecuteTime": {
     "end_time": "2024-07-20T00:27:18.013449Z",
     "start_time": "2024-07-20T00:27:18.009005Z"
    }
   },
   "id": "f3c5d2b40b57b499"
  },
  {
   "cell_type": "code",
   "execution_count": 13,
   "outputs": [
    {
     "name": "stdout",
     "output_type": "stream",
     "text": [
      "0.6341\n"
     ]
    }
   ],
   "source": [
    "n = 100\n",
    "simulations = 10**4\n",
    "\n",
    "# Run the simulation 10,000 times\n",
    "r = np.zeros(simulations)\n",
    "for i in range(simulations):\n",
    "    perm = np.random.permutation(n) + 1  # Generate a random permutation of 1 to 100\n",
    "    r[i] = np.sum(perm == np.arange(1, n + 1))  # Compare to the sequence 1:n and count matches\n",
    "\n",
    "# Calculate the proportion of simulations where at least one element is in its original position\n",
    "result = np.sum(r >= 1) / simulations\n",
    "print(result)"
   ],
   "metadata": {
    "collapsed": false,
    "ExecuteTime": {
     "end_time": "2024-07-20T00:27:19.073033Z",
     "start_time": "2024-07-20T00:27:18.945686Z"
    }
   },
   "id": "2f25c1a6770dae7a"
  },
  {
   "cell_type": "markdown",
   "source": [
    "## Birthday problem calculation and simulation"
   ],
   "metadata": {
    "collapsed": false
   },
   "id": "76366758c3fbf72b"
  },
  {
   "cell_type": "code",
   "execution_count": 14,
   "outputs": [
    {
     "name": "stdout",
     "output_type": "stream",
     "text": [
      "0.5042\n"
     ]
    }
   ],
   "source": [
    "# Number of simulations\n",
    "simulations = 10**4\n",
    "\n",
    "# Run the simulation 10,000 times\n",
    "r = np.zeros(simulations)\n",
    "for i in range(simulations):\n",
    "    sample = np.random.choice(365, 23, replace=True)  # Generate a sample of 23 birthdays\n",
    "    counts = np.bincount(sample)  # Count occurrences of each day\n",
    "    r[i] = np.max(counts)  # Find the maximum count\n",
    "\n",
    "# Calculate the proportion of simulations where at least one day has two or more people sharing a birthday\n",
    "result = np.sum(r >= 2) / simulations\n",
    "print(result)"
   ],
   "metadata": {
    "collapsed": false,
    "ExecuteTime": {
     "end_time": "2024-07-20T00:27:19.844497Z",
     "start_time": "2024-07-20T00:27:19.668123Z"
    }
   },
   "id": "6aa9648529339f4d"
  },
  {
   "cell_type": "markdown",
   "source": [
    "# Chapter 2"
   ],
   "metadata": {
    "collapsed": false
   },
   "id": "baa53c3e49699e2"
  },
  {
   "cell_type": "markdown",
   "source": [
    "## Simulating the frequentist interpretation"
   ],
   "metadata": {
    "collapsed": false
   },
   "id": "f8923ddc1c9194ce"
  },
  {
   "cell_type": "code",
   "execution_count": 15,
   "outputs": [
    {
     "name": "stdout",
     "output_type": "stream",
     "text": [
      "Sample child1: [1 2 2 1 2 2 2 2 2 1]\n",
      "Sample child2: [1 1 1 1 1 2 2 1 1 2]\n",
      "Sample children: ['girl' 'boy' 'boy' 'boy' 'girl' 'boy' 'boy' 'girl' 'boy' 'boy']\n"
     ]
    }
   ],
   "source": [
    "# Set n to 100,000\n",
    "n = 10**5\n",
    "\n",
    "# Generate two random samples of size n from the set {1, 2} with replacement\n",
    "child1 = np.random.choice([1, 2], size=n, replace=True)\n",
    "child2 = np.random.choice([1, 2], size=n, replace=True)\n",
    "\n",
    "print(\"Sample child1:\", child1[:10])  # Print the first 10 elements for verification\n",
    "print(\"Sample child2:\", child2[:10])  # Print the first 10 elements for verification\n",
    "\n",
    "import numpy as np\n",
    "\n",
    "# Set n to 100,000\n",
    "n = 10**5\n",
    "\n",
    "# Generate a random sample of size n from the set {\"girl\", \"boy\"} with replacement\n",
    "children = np.random.choice([\"girl\", \"boy\"], size=n, replace=True)\n",
    "\n",
    "print(\"Sample children:\", children[:10])  # Print the first 10 elements for verification"
   ],
   "metadata": {
    "collapsed": false,
    "ExecuteTime": {
     "end_time": "2024-07-20T00:31:54.904510Z",
     "start_time": "2024-07-20T00:31:54.892943Z"
    }
   },
   "id": "48feb6f51ecc18f8"
  },
  {
   "cell_type": "code",
   "execution_count": 18,
   "outputs": [
    {
     "name": "stdout",
     "output_type": "stream",
     "text": [
      "50000\n",
      "24988\n",
      "0.49976\n"
     ]
    }
   ],
   "source": [
    "# Calculate the number of times child1 is equal to 1\n",
    "number_of_times_first_child_is_girl = np.sum(child1 == 1)\n",
    "\n",
    "# Calculate the number of times both child1 and child2 are equal to 1\n",
    "number_of_times_both_children_are_girls = np.sum((child1 == 1) & (child2 == 1))\n",
    "\n",
    "# Calculate the ratio n_ab / n_b\n",
    "prob_both_children_are_girls_if_fist_child_is_girl = number_of_times_both_children_are_girls / number_of_times_first_child_is_girl \n",
    "\n",
    "print(number_of_times_first_child_is_girl)\n",
    "print(number_of_times_both_children_are_girls)\n",
    "print(prob_both_children_are_girls_if_fist_child_is_girl)"
   ],
   "metadata": {
    "collapsed": false,
    "ExecuteTime": {
     "end_time": "2024-07-20T00:35:29.536594Z",
     "start_time": "2024-07-20T00:35:29.533751Z"
    }
   },
   "id": "2502b8751ec58d46"
  },
  {
   "cell_type": "code",
   "execution_count": 21,
   "outputs": [
    {
     "name": "stdout",
     "output_type": "stream",
     "text": [
      "Probability that both children are girls if there is at least one girl  0.33249946774536937\n"
     ]
    }
   ],
   "source": [
    "number_of_times_at_least_one_child_is_girl = np.sum((child1 == 1) | (child2 == 1)) # like in R, | computes or\n",
    "print('Probability that both children are girls if there is at least one girl ', number_of_times_both_children_are_girls / number_of_times_at_least_one_child_is_girl )"
   ],
   "metadata": {
    "collapsed": false,
    "ExecuteTime": {
     "end_time": "2024-07-20T00:37:35.924726Z",
     "start_time": "2024-07-20T00:37:35.919740Z"
    }
   },
   "id": "dc424325ac367c2"
  },
  {
   "cell_type": "markdown",
   "source": [
    "## Monty-Hall Problem"
   ],
   "metadata": {
    "collapsed": false
   },
   "id": "acefcfc204b9999c"
  },
  {
   "cell_type": "code",
   "execution_count": 22,
   "outputs": [
    {
     "name": "stdout",
     "output_type": "stream",
     "text": [
      "Monty Hall says ‘Pick a door, any door!’\n",
      "Monty opens door 1!\n",
      "You won!\n"
     ]
    }
   ],
   "source": [
    "def monty_hall():\n",
    "    doors = [1, 2, 3]\n",
    "\n",
    "    # Randomly pick where the car is\n",
    "    cardoor = np.random.choice(doors)\n",
    "\n",
    "    # Prompt player\n",
    "    print(\"Monty Hall says ‘Pick a door, any door!’\")\n",
    "    chosen = int(input(\"Enter your choice (1, 2, or 3): \"))\n",
    "\n",
    "    # Pick Monty's door (can't be the player's door or the car door)\n",
    "    if chosen != cardoor:\n",
    "        montydoor = [door for door in doors if door != chosen and door != cardoor][0]\n",
    "    else:\n",
    "        montydoor = np.random.choice([door for door in doors if door != chosen])\n",
    "\n",
    "    # Find out whether the player wants to switch doors\n",
    "    print(f\"Monty opens door {montydoor}!\")\n",
    "    reply = input(\"Would you like to switch (y/n)? \")\n",
    "\n",
    "    # Interpret what player wrote as \"yes\" if it starts with \"y\"\n",
    "    if reply.lower().startswith('y'):\n",
    "        chosen = [door for door in doors if door != chosen and door != montydoor][0]\n",
    "\n",
    "    # Announce the result of the game!\n",
    "    if chosen == cardoor:\n",
    "        print(\"You won!\")\n",
    "    else:\n",
    "        print(\"You lost!\")\n",
    "\n",
    "# Run the game\n",
    "monty_hall()"
   ],
   "metadata": {
    "collapsed": false,
    "ExecuteTime": {
     "end_time": "2024-07-20T00:38:51.530847Z",
     "start_time": "2024-07-20T00:38:45.573393Z"
    }
   },
   "id": "a98ed6b55fb745aa"
  },
  {
   "cell_type": "markdown",
   "source": [
    "# Chapter 3"
   ],
   "metadata": {
    "collapsed": false
   },
   "id": "42ee912b5feb05e0"
  },
  {
   "cell_type": "markdown",
   "source": [
    "## Binomial distribution"
   ],
   "metadata": {
    "collapsed": false
   },
   "id": "97dd8f4b874862f1"
  },
  {
   "cell_type": "code",
   "execution_count": 24,
   "outputs": [
    {
     "name": "stdout",
     "output_type": "stream",
     "text": [
      "Binomial Distribution:\n",
      "PMF at k=5: 0.24609375000000003\n",
      "CDF at k=5: 0.623046875\n"
     ]
    }
   ],
   "source": [
    "# Parameters\n",
    "n = 10  # number of trials\n",
    "p = 0.5  # probability of success\n",
    "\n",
    "# Binomial Distribution\n",
    "binomial_distribution = stats.binom(n, p)\n",
    "\n",
    "# Example calculations\n",
    "k = 5\n",
    "pmf = binomial_distribution.pmf(k)  # Probability of exactly k successes\n",
    "cdf = binomial_distribution.cdf(k)  # Cumulative probability of k or fewer successes\n",
    "\n",
    "print(\"Binomial Distribution:\")\n",
    "print(f\"PMF at k={k}: {pmf}\")\n",
    "print(f\"CDF at k={k}: {cdf}\")\n",
    "print()"
   ],
   "metadata": {
    "collapsed": false,
    "ExecuteTime": {
     "end_time": "2024-07-20T00:44:47.069860Z",
     "start_time": "2024-07-20T00:44:47.062412Z"
    }
   },
   "id": "87d359ce09dd64dd"
  },
  {
   "cell_type": "markdown",
   "source": [
    "## Hypergeometric distribution"
   ],
   "metadata": {
    "collapsed": false
   },
   "id": "7ddd471eb9ea3b56"
  },
  {
   "cell_type": "code",
   "execution_count": 25,
   "outputs": [
    {
     "name": "stdout",
     "output_type": "stream",
     "text": [
      "Hypergeometric Distribution:\n",
      "PMF at k=5: 0.14628482972136223\n",
      "CDF at k=5: 0.9713622291021672\n"
     ]
    }
   ],
   "source": [
    "# Parameters\n",
    "N = 20  # population size\n",
    "K = 7   # number of successes in the population\n",
    "n = 10  # number of draws\n",
    "\n",
    "# Hypergeometric Distribution\n",
    "hypergeometric_distribution = stats.hypergeom(N, K, n)\n",
    "\n",
    "# Example calculations\n",
    "k = 5\n",
    "pmf = hypergeometric_distribution.pmf(k)  # Probability of exactly k successes\n",
    "cdf = hypergeometric_distribution.cdf(k)  # Cumulative probability of k or fewer successes\n",
    "\n",
    "print(\"Hypergeometric Distribution:\")\n",
    "print(f\"PMF at k={k}: {pmf}\")\n",
    "print(f\"CDF at k={k}: {cdf}\")\n",
    "print()"
   ],
   "metadata": {
    "collapsed": false,
    "ExecuteTime": {
     "end_time": "2024-07-20T00:45:14.012846Z",
     "start_time": "2024-07-20T00:45:14.000435Z"
    }
   },
   "id": "330b6cc85051cf4e"
  },
  {
   "cell_type": "markdown",
   "source": [
    "## Poisson Distribution"
   ],
   "metadata": {
    "collapsed": false
   },
   "id": "fe4508c73a8bdd6b"
  },
  {
   "cell_type": "code",
   "execution_count": 26,
   "outputs": [
    {
     "name": "stdout",
     "output_type": "stream",
     "text": [
      "Poisson Distribution:\n",
      "PMF at k=5: 0.10081881344492458\n",
      "CDF at k=5: 0.9160820579686966\n"
     ]
    }
   ],
   "source": [
    "# Parameters\n",
    "mu = 3  # mean number of events\n",
    "\n",
    "# Poisson Distribution\n",
    "poisson_distribution = stats.poisson(mu)\n",
    "\n",
    "# Example calculations\n",
    "k = 5\n",
    "pmf = poisson_distribution.pmf(k)  # Probability of exactly k events\n",
    "cdf = poisson_distribution.cdf(k)  # Cumulative probability of k or fewer events\n",
    "\n",
    "print(\"Poisson Distribution:\")\n",
    "print(f\"PMF at k={k}: {pmf}\")\n",
    "print(f\"CDF at k={k}: {cdf}\")\n",
    "print()"
   ],
   "metadata": {
    "collapsed": false,
    "ExecuteTime": {
     "end_time": "2024-07-20T00:45:35.754429Z",
     "start_time": "2024-07-20T00:45:35.722644Z"
    }
   },
   "id": "364146ea12c24985"
  },
  {
   "cell_type": "markdown",
   "source": [
    "# Chapter 4"
   ],
   "metadata": {
    "collapsed": false
   },
   "id": "d1344707e6929668"
  },
  {
   "cell_type": "markdown",
   "source": [
    "## Geometric Distribution"
   ],
   "metadata": {
    "collapsed": false
   },
   "id": "cef3d55c1a9c3022"
  },
  {
   "cell_type": "code",
   "execution_count": 27,
   "outputs": [
    {
     "name": "stdout",
     "output_type": "stream",
     "text": [
      "Geometric Distribution:\n",
      "PMF at k=5: 0.03125\n",
      "CDF at k=5: 0.96875\n"
     ]
    }
   ],
   "source": [
    "# Parameters\n",
    "p = 0.5  # probability of success on each trial\n",
    "\n",
    "# Geometric Distribution\n",
    "geometric_distribution = stats.geom(p)\n",
    "\n",
    "# Example calculations\n",
    "k = 5\n",
    "pmf = geometric_distribution.pmf(k)  # Probability of k trials until first success\n",
    "cdf = geometric_distribution.cdf(k)  # Cumulative probability of k or fewer trials until first success\n",
    "\n",
    "print(\"Geometric Distribution:\")\n",
    "print(f\"PMF at k={k}: {pmf}\")\n",
    "print(f\"CDF at k={k}: {cdf}\")\n",
    "print()"
   ],
   "metadata": {
    "collapsed": false,
    "ExecuteTime": {
     "end_time": "2024-07-20T01:46:37.228327Z",
     "start_time": "2024-07-20T01:46:37.225442Z"
    }
   },
   "id": "71a5fdff6f9b0d21"
  },
  {
   "cell_type": "markdown",
   "source": [
    "## Matching Simulation"
   ],
   "metadata": {
    "collapsed": false
   },
   "id": "123836c5b169f4db"
  },
  {
   "cell_type": "code",
   "execution_count": 28,
   "outputs": [
    {
     "name": "stdout",
     "output_type": "stream",
     "text": [
      "1.003\n"
     ]
    }
   ],
   "source": [
    "n = 100\n",
    "\n",
    "# Number of simulations\n",
    "simulations = 10**4\n",
    "\n",
    "# Run the simulation 10,000 times\n",
    "results = np.zeros(simulations)\n",
    "for i in range(simulations):\n",
    "    perm = np.random.permutation(n) + 1  # Generate a random permutation of 1 to 100\n",
    "    results[i] = np.sum(perm == np.arange(1, n + 1))  # Compare to the sequence 1:n and count matches\n",
    "\n",
    "# Calculate the mean of the results\n",
    "mean_result = np.mean(results)\n",
    "print(mean_result)"
   ],
   "metadata": {
    "collapsed": false,
    "ExecuteTime": {
     "end_time": "2024-07-20T01:47:29.948038Z",
     "start_time": "2024-07-20T01:47:29.719941Z"
    }
   },
   "id": "61c3dec47fa67d02"
  },
  {
   "cell_type": "code",
   "execution_count": 29,
   "outputs": [
    {
     "name": "stdout",
     "output_type": "stream",
     "text": [
      "Mean number of unique birthdays: 19.4724\n",
      "Theoretical expected number of unique birthdays: 19.487910239138333\n"
     ]
    }
   ],
   "source": [
    "k = 20\n",
    "\n",
    "# Number of simulations\n",
    "simulations = 10**4\n",
    "\n",
    "# Run the simulation 10,000 times\n",
    "results = np.zeros(simulations)\n",
    "for i in range(simulations):\n",
    "    bdays = np.random.choice(365, k, replace=True)  # Generate a sample of k birthdays\n",
    "    results[i] = len(np.unique(bdays))  # Count the number of unique birthdays\n",
    "\n",
    "# Calculate the mean of the results\n",
    "mean_result = np.mean(results)\n",
    "print(f\"Mean number of unique birthdays: {mean_result}\")\n",
    "\n",
    "# Compute the theoretical expected number of unique birthdays\n",
    "theoretical_value = 365 * (1 - (364/365)**k)\n",
    "print(f\"Theoretical expected number of unique birthdays: {theoretical_value}\")"
   ],
   "metadata": {
    "collapsed": false,
    "ExecuteTime": {
     "end_time": "2024-07-20T01:48:21.861814Z",
     "start_time": "2024-07-20T01:48:21.573205Z"
    }
   },
   "id": "c561351575f5af80"
  },
  {
   "cell_type": "code",
   "execution_count": null,
   "outputs": [],
   "source": [],
   "metadata": {
    "collapsed": false
   },
   "id": "a196ea8f16c8d07b"
  }
 ],
 "metadata": {
  "kernelspec": {
   "display_name": "Python 3",
   "language": "python",
   "name": "python3"
  },
  "language_info": {
   "codemirror_mode": {
    "name": "ipython",
    "version": 2
   },
   "file_extension": ".py",
   "mimetype": "text/x-python",
   "name": "python",
   "nbconvert_exporter": "python",
   "pygments_lexer": "ipython2",
   "version": "2.7.6"
  }
 },
 "nbformat": 4,
 "nbformat_minor": 5
}
