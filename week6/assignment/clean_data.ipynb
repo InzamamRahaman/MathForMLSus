{
 "cells": [
  {
   "cell_type": "code",
   "execution_count": 1,
   "id": "initial_id",
   "metadata": {
    "collapsed": true,
    "ExecuteTime": {
     "end_time": "2024-07-23T04:28:40.951690Z",
     "start_time": "2024-07-23T04:28:40.949915Z"
    }
   },
   "outputs": [],
   "source": [
    "import pandas as pd"
   ]
  },
  {
   "cell_type": "code",
   "execution_count": 9,
   "outputs": [],
   "source": [
    "food = pd.read_csv('nutrition.csv')"
   ],
   "metadata": {
    "collapsed": false,
    "ExecuteTime": {
     "end_time": "2024-07-23T04:32:11.337510Z",
     "start_time": "2024-07-23T04:32:11.187012Z"
    }
   },
   "id": "f50cd9d8c80311ea"
  },
  {
   "cell_type": "code",
   "execution_count": 10,
   "outputs": [
    {
     "data": {
      "text/plain": "   Unnamed: 0             name serving_size  calories total_fat saturated_fat  \\\n0           0       Cornstarch        100 g       381      0.1g           NaN   \n1           1     Nuts, pecans        100 g       691       72g          6.2g   \n2           2    Eggplant, raw        100 g        25      0.2g           NaN   \n3           3   Teff, uncooked        100 g       367      2.4g          0.4g   \n4           4  Sherbet, orange        100 g       144        2g          1.2g   \n\n  cholesterol    sodium  choline     folate  ...      fat  \\\n0           0   9.00 mg   0.4 mg   0.00 mcg  ...   0.05 g   \n1           0   0.00 mg  40.5 mg  22.00 mcg  ...  71.97 g   \n2           0   2.00 mg   6.9 mg  22.00 mcg  ...   0.18 g   \n3           0  12.00 mg  13.1 mg          0  ...   2.38 g   \n4         1mg  46.00 mg   7.7 mg   4.00 mcg  ...   2.00 g   \n\n  saturated_fatty_acids monounsaturated_fatty_acids  \\\n0               0.009 g                     0.016 g   \n1               6.180 g                    40.801 g   \n2               0.034 g                     0.016 g   \n3               0.449 g                     0.589 g   \n4               1.160 g                     0.530 g   \n\n  polyunsaturated_fatty_acids fatty_acids_total_trans alcohol     ash  \\\n0                     0.025 g                 0.00 mg   0.0 g  0.09 g   \n1                    21.614 g                 0.00 mg   0.0 g  1.49 g   \n2                     0.076 g                 0.00 mg   0.0 g  0.66 g   \n3                     1.071 g                       0       0  2.37 g   \n4                     0.080 g                 1.00 mg   0.0 g  0.40 g   \n\n  caffeine theobromine    water  \n0  0.00 mg     0.00 mg   8.32 g  \n1  0.00 mg     0.00 mg   3.52 g  \n2  0.00 mg     0.00 mg  92.30 g  \n3        0           0   8.82 g  \n4  0.00 mg     0.00 mg  66.10 g  \n\n[5 rows x 77 columns]",
      "text/html": "<div>\n<style scoped>\n    .dataframe tbody tr th:only-of-type {\n        vertical-align: middle;\n    }\n\n    .dataframe tbody tr th {\n        vertical-align: top;\n    }\n\n    .dataframe thead th {\n        text-align: right;\n    }\n</style>\n<table border=\"1\" class=\"dataframe\">\n  <thead>\n    <tr style=\"text-align: right;\">\n      <th></th>\n      <th>Unnamed: 0</th>\n      <th>name</th>\n      <th>serving_size</th>\n      <th>calories</th>\n      <th>total_fat</th>\n      <th>saturated_fat</th>\n      <th>cholesterol</th>\n      <th>sodium</th>\n      <th>choline</th>\n      <th>folate</th>\n      <th>...</th>\n      <th>fat</th>\n      <th>saturated_fatty_acids</th>\n      <th>monounsaturated_fatty_acids</th>\n      <th>polyunsaturated_fatty_acids</th>\n      <th>fatty_acids_total_trans</th>\n      <th>alcohol</th>\n      <th>ash</th>\n      <th>caffeine</th>\n      <th>theobromine</th>\n      <th>water</th>\n    </tr>\n  </thead>\n  <tbody>\n    <tr>\n      <th>0</th>\n      <td>0</td>\n      <td>Cornstarch</td>\n      <td>100 g</td>\n      <td>381</td>\n      <td>0.1g</td>\n      <td>NaN</td>\n      <td>0</td>\n      <td>9.00 mg</td>\n      <td>0.4 mg</td>\n      <td>0.00 mcg</td>\n      <td>...</td>\n      <td>0.05 g</td>\n      <td>0.009 g</td>\n      <td>0.016 g</td>\n      <td>0.025 g</td>\n      <td>0.00 mg</td>\n      <td>0.0 g</td>\n      <td>0.09 g</td>\n      <td>0.00 mg</td>\n      <td>0.00 mg</td>\n      <td>8.32 g</td>\n    </tr>\n    <tr>\n      <th>1</th>\n      <td>1</td>\n      <td>Nuts, pecans</td>\n      <td>100 g</td>\n      <td>691</td>\n      <td>72g</td>\n      <td>6.2g</td>\n      <td>0</td>\n      <td>0.00 mg</td>\n      <td>40.5 mg</td>\n      <td>22.00 mcg</td>\n      <td>...</td>\n      <td>71.97 g</td>\n      <td>6.180 g</td>\n      <td>40.801 g</td>\n      <td>21.614 g</td>\n      <td>0.00 mg</td>\n      <td>0.0 g</td>\n      <td>1.49 g</td>\n      <td>0.00 mg</td>\n      <td>0.00 mg</td>\n      <td>3.52 g</td>\n    </tr>\n    <tr>\n      <th>2</th>\n      <td>2</td>\n      <td>Eggplant, raw</td>\n      <td>100 g</td>\n      <td>25</td>\n      <td>0.2g</td>\n      <td>NaN</td>\n      <td>0</td>\n      <td>2.00 mg</td>\n      <td>6.9 mg</td>\n      <td>22.00 mcg</td>\n      <td>...</td>\n      <td>0.18 g</td>\n      <td>0.034 g</td>\n      <td>0.016 g</td>\n      <td>0.076 g</td>\n      <td>0.00 mg</td>\n      <td>0.0 g</td>\n      <td>0.66 g</td>\n      <td>0.00 mg</td>\n      <td>0.00 mg</td>\n      <td>92.30 g</td>\n    </tr>\n    <tr>\n      <th>3</th>\n      <td>3</td>\n      <td>Teff, uncooked</td>\n      <td>100 g</td>\n      <td>367</td>\n      <td>2.4g</td>\n      <td>0.4g</td>\n      <td>0</td>\n      <td>12.00 mg</td>\n      <td>13.1 mg</td>\n      <td>0</td>\n      <td>...</td>\n      <td>2.38 g</td>\n      <td>0.449 g</td>\n      <td>0.589 g</td>\n      <td>1.071 g</td>\n      <td>0</td>\n      <td>0</td>\n      <td>2.37 g</td>\n      <td>0</td>\n      <td>0</td>\n      <td>8.82 g</td>\n    </tr>\n    <tr>\n      <th>4</th>\n      <td>4</td>\n      <td>Sherbet, orange</td>\n      <td>100 g</td>\n      <td>144</td>\n      <td>2g</td>\n      <td>1.2g</td>\n      <td>1mg</td>\n      <td>46.00 mg</td>\n      <td>7.7 mg</td>\n      <td>4.00 mcg</td>\n      <td>...</td>\n      <td>2.00 g</td>\n      <td>1.160 g</td>\n      <td>0.530 g</td>\n      <td>0.080 g</td>\n      <td>1.00 mg</td>\n      <td>0.0 g</td>\n      <td>0.40 g</td>\n      <td>0.00 mg</td>\n      <td>0.00 mg</td>\n      <td>66.10 g</td>\n    </tr>\n  </tbody>\n</table>\n<p>5 rows × 77 columns</p>\n</div>"
     },
     "execution_count": 10,
     "metadata": {},
     "output_type": "execute_result"
    }
   ],
   "source": [
    "food.head()"
   ],
   "metadata": {
    "collapsed": false,
    "ExecuteTime": {
     "end_time": "2024-07-23T04:32:13.764773Z",
     "start_time": "2024-07-23T04:32:13.758923Z"
    }
   },
   "id": "62dafb4d11e218f6"
  },
  {
   "cell_type": "code",
   "execution_count": 11,
   "outputs": [],
   "source": [
    "# Function to clean dataframes\n",
    "def clean_dataframe(df, exclude_columns=[]):\n",
    "    # Select columns with dtype object\n",
    "    object_columns = df.select_dtypes(include=['object'])\n",
    "\n",
    "    # Drop the columns to be excluded\n",
    "    object_columns = object_columns.drop(columns=exclude_columns)\n",
    "\n",
    "    # Replace non-digit characters with empty string and convert to float\n",
    "    df_cleaned = object_columns.applymap(lambda x: ''.join(filter(str.isdigit, str(x) + '.'))).apply(pd.to_numeric, errors='coerce')\n",
    "\n",
    "    # Fill NaN values with 0\n",
    "    df_cleaned = df_cleaned.fillna(0)\n",
    "\n",
    "    # Replace the original object columns with the cleaned ones\n",
    "    df[object_columns.columns] = df_cleaned\n",
    "    return df"
   ],
   "metadata": {
    "collapsed": false,
    "ExecuteTime": {
     "end_time": "2024-07-23T04:33:20.013538Z",
     "start_time": "2024-07-23T04:33:19.984941Z"
    }
   },
   "id": "8e20c4afb35aa21a"
  },
  {
   "cell_type": "code",
   "execution_count": 12,
   "outputs": [],
   "source": [
    "food = clean_dataframe(food, exclude_columns=['name'])"
   ],
   "metadata": {
    "collapsed": false,
    "ExecuteTime": {
     "end_time": "2024-07-23T04:33:21.427841Z",
     "start_time": "2024-07-23T04:33:20.522579Z"
    }
   },
   "id": "c69c5b60fff9e825"
  },
  {
   "cell_type": "code",
   "execution_count": 13,
   "outputs": [
    {
     "data": {
      "text/plain": "   Unnamed: 0             name  serving_size  calories  total_fat  \\\n0           0       Cornstarch           100       381          1   \n1           1     Nuts, pecans           100       691         72   \n2           2    Eggplant, raw           100        25          2   \n3           3   Teff, uncooked           100       367         24   \n4           4  Sherbet, orange           100       144          2   \n\n   saturated_fat  cholesterol  sodium  choline  folate  ...   fat  \\\n0            0.0            0     900        4       0  ...     5   \n1           62.0            0       0      405    2200  ...  7197   \n2            0.0            0     200       69    2200  ...    18   \n3            4.0            0    1200      131       0  ...   238   \n4           12.0            1    4600       77     400  ...   200   \n\n   saturated_fatty_acids  monounsaturated_fatty_acids  \\\n0                      9                           16   \n1                   6180                        40801   \n2                     34                           16   \n3                    449                          589   \n4                   1160                          530   \n\n   polyunsaturated_fatty_acids  fatty_acids_total_trans  alcohol  ash  \\\n0                           25                        0        0    9   \n1                        21614                        0        0  149   \n2                           76                        0        0   66   \n3                         1071                        0        0  237   \n4                           80                      100        0   40   \n\n   caffeine  theobromine  water  \n0         0            0    832  \n1         0            0    352  \n2         0            0   9230  \n3         0            0    882  \n4         0            0   6610  \n\n[5 rows x 77 columns]",
      "text/html": "<div>\n<style scoped>\n    .dataframe tbody tr th:only-of-type {\n        vertical-align: middle;\n    }\n\n    .dataframe tbody tr th {\n        vertical-align: top;\n    }\n\n    .dataframe thead th {\n        text-align: right;\n    }\n</style>\n<table border=\"1\" class=\"dataframe\">\n  <thead>\n    <tr style=\"text-align: right;\">\n      <th></th>\n      <th>Unnamed: 0</th>\n      <th>name</th>\n      <th>serving_size</th>\n      <th>calories</th>\n      <th>total_fat</th>\n      <th>saturated_fat</th>\n      <th>cholesterol</th>\n      <th>sodium</th>\n      <th>choline</th>\n      <th>folate</th>\n      <th>...</th>\n      <th>fat</th>\n      <th>saturated_fatty_acids</th>\n      <th>monounsaturated_fatty_acids</th>\n      <th>polyunsaturated_fatty_acids</th>\n      <th>fatty_acids_total_trans</th>\n      <th>alcohol</th>\n      <th>ash</th>\n      <th>caffeine</th>\n      <th>theobromine</th>\n      <th>water</th>\n    </tr>\n  </thead>\n  <tbody>\n    <tr>\n      <th>0</th>\n      <td>0</td>\n      <td>Cornstarch</td>\n      <td>100</td>\n      <td>381</td>\n      <td>1</td>\n      <td>0.0</td>\n      <td>0</td>\n      <td>900</td>\n      <td>4</td>\n      <td>0</td>\n      <td>...</td>\n      <td>5</td>\n      <td>9</td>\n      <td>16</td>\n      <td>25</td>\n      <td>0</td>\n      <td>0</td>\n      <td>9</td>\n      <td>0</td>\n      <td>0</td>\n      <td>832</td>\n    </tr>\n    <tr>\n      <th>1</th>\n      <td>1</td>\n      <td>Nuts, pecans</td>\n      <td>100</td>\n      <td>691</td>\n      <td>72</td>\n      <td>62.0</td>\n      <td>0</td>\n      <td>0</td>\n      <td>405</td>\n      <td>2200</td>\n      <td>...</td>\n      <td>7197</td>\n      <td>6180</td>\n      <td>40801</td>\n      <td>21614</td>\n      <td>0</td>\n      <td>0</td>\n      <td>149</td>\n      <td>0</td>\n      <td>0</td>\n      <td>352</td>\n    </tr>\n    <tr>\n      <th>2</th>\n      <td>2</td>\n      <td>Eggplant, raw</td>\n      <td>100</td>\n      <td>25</td>\n      <td>2</td>\n      <td>0.0</td>\n      <td>0</td>\n      <td>200</td>\n      <td>69</td>\n      <td>2200</td>\n      <td>...</td>\n      <td>18</td>\n      <td>34</td>\n      <td>16</td>\n      <td>76</td>\n      <td>0</td>\n      <td>0</td>\n      <td>66</td>\n      <td>0</td>\n      <td>0</td>\n      <td>9230</td>\n    </tr>\n    <tr>\n      <th>3</th>\n      <td>3</td>\n      <td>Teff, uncooked</td>\n      <td>100</td>\n      <td>367</td>\n      <td>24</td>\n      <td>4.0</td>\n      <td>0</td>\n      <td>1200</td>\n      <td>131</td>\n      <td>0</td>\n      <td>...</td>\n      <td>238</td>\n      <td>449</td>\n      <td>589</td>\n      <td>1071</td>\n      <td>0</td>\n      <td>0</td>\n      <td>237</td>\n      <td>0</td>\n      <td>0</td>\n      <td>882</td>\n    </tr>\n    <tr>\n      <th>4</th>\n      <td>4</td>\n      <td>Sherbet, orange</td>\n      <td>100</td>\n      <td>144</td>\n      <td>2</td>\n      <td>12.0</td>\n      <td>1</td>\n      <td>4600</td>\n      <td>77</td>\n      <td>400</td>\n      <td>...</td>\n      <td>200</td>\n      <td>1160</td>\n      <td>530</td>\n      <td>80</td>\n      <td>100</td>\n      <td>0</td>\n      <td>40</td>\n      <td>0</td>\n      <td>0</td>\n      <td>6610</td>\n    </tr>\n  </tbody>\n</table>\n<p>5 rows × 77 columns</p>\n</div>"
     },
     "execution_count": 13,
     "metadata": {},
     "output_type": "execute_result"
    }
   ],
   "source": [
    "food.head()"
   ],
   "metadata": {
    "collapsed": false,
    "ExecuteTime": {
     "end_time": "2024-07-23T04:33:22.017006Z",
     "start_time": "2024-07-23T04:33:22.013320Z"
    }
   },
   "id": "e03c15bc0bf86208"
  },
  {
   "cell_type": "code",
   "execution_count": 18,
   "outputs": [],
   "source": [
    "food = food.dropna()\n",
    "food = food.drop(['serving_size'], axis=1)"
   ],
   "metadata": {
    "collapsed": false,
    "ExecuteTime": {
     "end_time": "2024-07-23T04:34:58.143752Z",
     "start_time": "2024-07-23T04:34:58.115190Z"
    }
   },
   "id": "4ca522d4bc10e86c"
  },
  {
   "cell_type": "code",
   "execution_count": 19,
   "outputs": [],
   "source": [
    "food.to_csv('nutritional_info.csv', index=False)"
   ],
   "metadata": {
    "collapsed": false,
    "ExecuteTime": {
     "end_time": "2024-07-23T04:34:59.210688Z",
     "start_time": "2024-07-23T04:34:58.999294Z"
    }
   },
   "id": "7d695f2c14ec03bc"
  },
  {
   "cell_type": "code",
   "execution_count": 20,
   "outputs": [
    {
     "data": {
      "text/plain": "8789"
     },
     "execution_count": 20,
     "metadata": {},
     "output_type": "execute_result"
    }
   ],
   "source": [
    "len(food)"
   ],
   "metadata": {
    "collapsed": false,
    "ExecuteTime": {
     "end_time": "2024-07-23T04:35:00.076660Z",
     "start_time": "2024-07-23T04:35:00.072629Z"
    }
   },
   "id": "9115d0ea68fe1652"
  },
  {
   "cell_type": "code",
   "execution_count": 21,
   "outputs": [
    {
     "data": {
      "text/plain": "   Unnamed: 0             name  calories  total_fat  saturated_fat  \\\n0           0       Cornstarch       381          1            0.0   \n1           1     Nuts, pecans       691         72           62.0   \n2           2    Eggplant, raw        25          2            0.0   \n3           3   Teff, uncooked       367         24            4.0   \n4           4  Sherbet, orange       144          2           12.0   \n\n   cholesterol  sodium  choline  folate  folic_acid  ...   fat  \\\n0            0     900        4       0           0  ...     5   \n1            0       0      405    2200           0  ...  7197   \n2            0     200       69    2200           0  ...    18   \n3            0    1200      131       0           0  ...   238   \n4            1    4600       77     400           0  ...   200   \n\n   saturated_fatty_acids  monounsaturated_fatty_acids  \\\n0                      9                           16   \n1                   6180                        40801   \n2                     34                           16   \n3                    449                          589   \n4                   1160                          530   \n\n   polyunsaturated_fatty_acids  fatty_acids_total_trans  alcohol  ash  \\\n0                           25                        0        0    9   \n1                        21614                        0        0  149   \n2                           76                        0        0   66   \n3                         1071                        0        0  237   \n4                           80                      100        0   40   \n\n   caffeine  theobromine  water  \n0         0            0    832  \n1         0            0    352  \n2         0            0   9230  \n3         0            0    882  \n4         0            0   6610  \n\n[5 rows x 76 columns]",
      "text/html": "<div>\n<style scoped>\n    .dataframe tbody tr th:only-of-type {\n        vertical-align: middle;\n    }\n\n    .dataframe tbody tr th {\n        vertical-align: top;\n    }\n\n    .dataframe thead th {\n        text-align: right;\n    }\n</style>\n<table border=\"1\" class=\"dataframe\">\n  <thead>\n    <tr style=\"text-align: right;\">\n      <th></th>\n      <th>Unnamed: 0</th>\n      <th>name</th>\n      <th>calories</th>\n      <th>total_fat</th>\n      <th>saturated_fat</th>\n      <th>cholesterol</th>\n      <th>sodium</th>\n      <th>choline</th>\n      <th>folate</th>\n      <th>folic_acid</th>\n      <th>...</th>\n      <th>fat</th>\n      <th>saturated_fatty_acids</th>\n      <th>monounsaturated_fatty_acids</th>\n      <th>polyunsaturated_fatty_acids</th>\n      <th>fatty_acids_total_trans</th>\n      <th>alcohol</th>\n      <th>ash</th>\n      <th>caffeine</th>\n      <th>theobromine</th>\n      <th>water</th>\n    </tr>\n  </thead>\n  <tbody>\n    <tr>\n      <th>0</th>\n      <td>0</td>\n      <td>Cornstarch</td>\n      <td>381</td>\n      <td>1</td>\n      <td>0.0</td>\n      <td>0</td>\n      <td>900</td>\n      <td>4</td>\n      <td>0</td>\n      <td>0</td>\n      <td>...</td>\n      <td>5</td>\n      <td>9</td>\n      <td>16</td>\n      <td>25</td>\n      <td>0</td>\n      <td>0</td>\n      <td>9</td>\n      <td>0</td>\n      <td>0</td>\n      <td>832</td>\n    </tr>\n    <tr>\n      <th>1</th>\n      <td>1</td>\n      <td>Nuts, pecans</td>\n      <td>691</td>\n      <td>72</td>\n      <td>62.0</td>\n      <td>0</td>\n      <td>0</td>\n      <td>405</td>\n      <td>2200</td>\n      <td>0</td>\n      <td>...</td>\n      <td>7197</td>\n      <td>6180</td>\n      <td>40801</td>\n      <td>21614</td>\n      <td>0</td>\n      <td>0</td>\n      <td>149</td>\n      <td>0</td>\n      <td>0</td>\n      <td>352</td>\n    </tr>\n    <tr>\n      <th>2</th>\n      <td>2</td>\n      <td>Eggplant, raw</td>\n      <td>25</td>\n      <td>2</td>\n      <td>0.0</td>\n      <td>0</td>\n      <td>200</td>\n      <td>69</td>\n      <td>2200</td>\n      <td>0</td>\n      <td>...</td>\n      <td>18</td>\n      <td>34</td>\n      <td>16</td>\n      <td>76</td>\n      <td>0</td>\n      <td>0</td>\n      <td>66</td>\n      <td>0</td>\n      <td>0</td>\n      <td>9230</td>\n    </tr>\n    <tr>\n      <th>3</th>\n      <td>3</td>\n      <td>Teff, uncooked</td>\n      <td>367</td>\n      <td>24</td>\n      <td>4.0</td>\n      <td>0</td>\n      <td>1200</td>\n      <td>131</td>\n      <td>0</td>\n      <td>0</td>\n      <td>...</td>\n      <td>238</td>\n      <td>449</td>\n      <td>589</td>\n      <td>1071</td>\n      <td>0</td>\n      <td>0</td>\n      <td>237</td>\n      <td>0</td>\n      <td>0</td>\n      <td>882</td>\n    </tr>\n    <tr>\n      <th>4</th>\n      <td>4</td>\n      <td>Sherbet, orange</td>\n      <td>144</td>\n      <td>2</td>\n      <td>12.0</td>\n      <td>1</td>\n      <td>4600</td>\n      <td>77</td>\n      <td>400</td>\n      <td>0</td>\n      <td>...</td>\n      <td>200</td>\n      <td>1160</td>\n      <td>530</td>\n      <td>80</td>\n      <td>100</td>\n      <td>0</td>\n      <td>40</td>\n      <td>0</td>\n      <td>0</td>\n      <td>6610</td>\n    </tr>\n  </tbody>\n</table>\n<p>5 rows × 76 columns</p>\n</div>"
     },
     "execution_count": 21,
     "metadata": {},
     "output_type": "execute_result"
    }
   ],
   "source": [
    "food.head()"
   ],
   "metadata": {
    "collapsed": false,
    "ExecuteTime": {
     "end_time": "2024-07-23T04:35:02.730550Z",
     "start_time": "2024-07-23T04:35:02.725205Z"
    }
   },
   "id": "96344cc9bbe555c3"
  },
  {
   "cell_type": "code",
   "execution_count": 22,
   "outputs": [
    {
     "data": {
      "text/plain": "Index(['Unnamed: 0', 'name', 'calories', 'total_fat', 'saturated_fat',\n       'cholesterol', 'sodium', 'choline', 'folate', 'folic_acid', 'niacin',\n       'pantothenic_acid', 'riboflavin', 'thiamin', 'vitamin_a',\n       'vitamin_a_rae', 'carotene_alpha', 'carotene_beta',\n       'cryptoxanthin_beta', 'lutein_zeaxanthin', 'lucopene', 'vitamin_b12',\n       'vitamin_b6', 'vitamin_c', 'vitamin_d', 'vitamin_e', 'tocopherol_alpha',\n       'vitamin_k', 'calcium', 'copper', 'irom', 'magnesium', 'manganese',\n       'phosphorous', 'potassium', 'selenium', 'zink', 'protein', 'alanine',\n       'arginine', 'aspartic_acid', 'cystine', 'glutamic_acid', 'glycine',\n       'histidine', 'hydroxyproline', 'isoleucine', 'leucine', 'lysine',\n       'methionine', 'phenylalanine', 'proline', 'serine', 'threonine',\n       'tryptophan', 'tyrosine', 'valine', 'carbohydrate', 'fiber', 'sugars',\n       'fructose', 'galactose', 'glucose', 'lactose', 'maltose', 'sucrose',\n       'fat', 'saturated_fatty_acids', 'monounsaturated_fatty_acids',\n       'polyunsaturated_fatty_acids', 'fatty_acids_total_trans', 'alcohol',\n       'ash', 'caffeine', 'theobromine', 'water'],\n      dtype='object')"
     },
     "execution_count": 22,
     "metadata": {},
     "output_type": "execute_result"
    }
   ],
   "source": [
    "food.columns"
   ],
   "metadata": {
    "collapsed": false,
    "ExecuteTime": {
     "end_time": "2024-07-23T04:42:55.485614Z",
     "start_time": "2024-07-23T04:42:55.480223Z"
    }
   },
   "id": "862c1179701d11dc"
  },
  {
   "cell_type": "code",
   "execution_count": null,
   "outputs": [],
   "source": [],
   "metadata": {
    "collapsed": false
   },
   "id": "db52f77c8468982e"
  }
 ],
 "metadata": {
  "kernelspec": {
   "display_name": "Python 3",
   "language": "python",
   "name": "python3"
  },
  "language_info": {
   "codemirror_mode": {
    "name": "ipython",
    "version": 2
   },
   "file_extension": ".py",
   "mimetype": "text/x-python",
   "name": "python",
   "nbconvert_exporter": "python",
   "pygments_lexer": "ipython2",
   "version": "2.7.6"
  }
 },
 "nbformat": 4,
 "nbformat_minor": 5
}
