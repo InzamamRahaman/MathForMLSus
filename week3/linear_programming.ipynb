{
 "cells": [
  {
   "cell_type": "markdown",
   "source": [
    "## Libraries required\n",
    "Before implementing the code to solve some example linear programming problems, we must first import the libraries that provide the algorithms and data structures that we will use to represent and process linear programmes. In our case, we will use the Scipy library and Numpy library"
   ],
   "metadata": {
    "collapsed": false
   },
   "id": "6de4154202631ca0"
  },
  {
   "cell_type": "code",
   "execution_count": 1,
   "outputs": [],
   "source": [
    "from scipy.optimize import linprog # imports solver from Scipy library\n",
    "import numpy as np #import library for array data structures for us to represent our linear programme"
   ],
   "metadata": {
    "collapsed": false,
    "ExecuteTime": {
     "end_time": "2024-07-14T23:34:28.954738Z",
     "start_time": "2024-07-14T23:34:28.356816Z"
    }
   },
   "id": "15316f2bd5b9afba"
  },
  {
   "cell_type": "markdown",
   "source": [
    "Let us consider this [example problem from PatrickJMT](https://www.youtube.com/watch?v=2ACJ9ewUC6U). The formulation (with some variable notation swaps), as seen in his solution at 3:31, is:\n",
    "$$\n",
    "\\begin{aligned}\n",
    "\\text{Minimize } Z &= 0.8x_1 + 0.5x_2 \\\\ \n",
    "\\textbf{Subject to:} & \\\\ \n",
    "15x_1 + 20x_2 &\\geq 60 \\\\\n",
    "10x_1 + 5x_2 &\\geq 60\\\\\n",
    "x_1 &\\geq 0 \\\\\n",
    "x_2 &\\geq 0 \n",
    "\\end{aligned}\n",
    "$$\n",
    "\n",
    "Looking [an example](https://realpython.com/linear-programming-python/), we see that Scipy expects the inequalities to be expressed using $\\leq$ and not $\\geq$. Recall that [you can flip the direction of an inequality by multiplying the inequality by a negative number](https://sciencing.com/when-do-you-flip-the-inequality-sign-13712236.html). As such, we can now derice the equivalent programme:\n",
    "$$\n",
    "\\begin{aligned}\n",
    "\\text{Minimize } Z &= 0.8x_1 + 0.5x_2 \\\\ \n",
    "\\textbf{Subject to:} & \\\\ \n",
    "-15x_1 - 20x_2 &\\leq -60 \\\\\n",
    "-10x_1 - 5x_2 &\\leq -60\\\\\n",
    "x_1 &\\geq 0 \\\\\n",
    "x_2 &\\geq 0 \n",
    "\\end{aligned}\n",
    "$$\n",
    "\n",
    "We can then encode the transformed problem into a format amenable to Scipy\n"
   ],
   "metadata": {
    "collapsed": false
   },
   "id": "2990856f46d0fdac"
  },
  {
   "cell_type": "code",
   "execution_count": 6,
   "outputs": [],
   "source": [
    "coefficients_of_cost = [0.8, 0.5] # from 0.8x_1 + 0.5x_2\n",
    "lhs_inequality_coef = [\n",
    "    [-15, -20], # from -15x_1 - 20x_2 <= -60\n",
    "    [-10, -5] # 10x_1 - 5x_2 <= -60\n",
    "]\n",
    "rhs_inequality = [\n",
    "    -60, # from -15x_1 - 20x_2 <= -60\n",
    "    -60 # 10x_1 - 5x_2 <= -60\n",
    "]\n",
    "lhs_eq = None # we have no equality constraints\n",
    "rhs_eq = None # we have no equality constriants\n",
    "bnd = [(0, float(\"inf\")),  # Bounds of x_1, represents x_1 >= 0; 0 is the minimum allowed value \n",
    "       (0, float(\"inf\"))]  # Bounds of x_2  represents x_2 >= 0"
   ],
   "metadata": {
    "collapsed": false,
    "ExecuteTime": {
     "end_time": "2024-07-14T23:54:04.421137Z",
     "start_time": "2024-07-14T23:54:04.408521Z"
    }
   },
   "id": "44a6b29e75b86908"
  },
  {
   "cell_type": "markdown",
   "source": [
    "With our problem encode, we can now call the solver"
   ],
   "metadata": {
    "collapsed": false
   },
   "id": "5051392daa48d0c3"
  },
  {
   "cell_type": "code",
   "execution_count": 7,
   "outputs": [],
   "source": [
    "opt = linprog(c=coefficients_of_cost, A_ub=lhs_inequality_coef, b_ub=rhs_inequality, A_eq=lhs_eq, b_eq=rhs_eq, bounds=bnd)"
   ],
   "metadata": {
    "collapsed": false,
    "ExecuteTime": {
     "end_time": "2024-07-14T23:54:05.307135Z",
     "start_time": "2024-07-14T23:54:05.304253Z"
    }
   },
   "id": "b0bcaf77e62f05c3"
  },
  {
   "cell_type": "code",
   "execution_count": 11,
   "outputs": [
    {
     "name": "stdout",
     "output_type": "stream",
     "text": [
      "        message: Optimization terminated successfully. (HiGHS Status 7: Optimal)\n",
      "        success: True\n",
      "         status: 0\n",
      "            fun: 4.800000000000001\n",
      "              x: [ 6.000e+00  0.000e+00]\n",
      "            nit: 1\n",
      "          lower:  residual: [ 6.000e+00  0.000e+00]\n",
      "                 marginals: [ 0.000e+00  1.000e-01]\n",
      "          upper:  residual: [       inf        inf]\n",
      "                 marginals: [ 0.000e+00  0.000e+00]\n",
      "          eqlin:  residual: []\n",
      "                 marginals: []\n",
      "        ineqlin:  residual: [ 3.000e+01  0.000e+00]\n",
      "                 marginals: [-0.000e+00 -8.000e-02]\n",
      " mip_node_count: 0\n",
      " mip_dual_bound: 0.0\n",
      "        mip_gap: 0.0\n",
      "Our optimal point is at [6. 0.]. With a value of 4.800000000000001\n"
     ]
    }
   ],
   "source": [
    "print(opt)\n",
    "print(f'Our optimal point is at {opt.x}. With a value of {opt.fun}')"
   ],
   "metadata": {
    "collapsed": false,
    "ExecuteTime": {
     "end_time": "2024-07-14T23:55:18.975449Z",
     "start_time": "2024-07-14T23:55:18.970548Z"
    }
   },
   "id": "223a8621a611f1f"
  },
  {
   "cell_type": "markdown",
   "source": [
    "The above is the same solution arrived at by hand. To further test your knowledge, try encoding [his second example](https://youtu.be/8AA_81xI3ik?si=mDdResTHdETXmEk0&t=214). Recall that the inequality constraints must align with the expected format of Scipy. Furthermore, note that this is a maximization problem. A maximization problem can be converted to a minimization problem by multiplying the objective function by $-1$. After you have attempted it for yourself, you can find the solution [here](https://gist.github.com/InzamamRahaman/773081eb6bb4d90de72fdd83930054d0)"
   ],
   "metadata": {
    "collapsed": false
   },
   "id": "6f0e940e402a8b90"
  },
  {
   "cell_type": "code",
   "execution_count": null,
   "outputs": [],
   "source": [],
   "metadata": {
    "collapsed": false
   },
   "id": "9da83eadcabab398"
  }
 ],
 "metadata": {
  "kernelspec": {
   "display_name": "Python 3",
   "language": "python",
   "name": "python3"
  },
  "language_info": {
   "codemirror_mode": {
    "name": "ipython",
    "version": 2
   },
   "file_extension": ".py",
   "mimetype": "text/x-python",
   "name": "python",
   "nbconvert_exporter": "python",
   "pygments_lexer": "ipython2",
   "version": "2.7.6"
  }
 },
 "nbformat": 4,
 "nbformat_minor": 5
}
