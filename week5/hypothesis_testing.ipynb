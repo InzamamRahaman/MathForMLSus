{
 "cells": [
  {
   "cell_type": "code",
   "execution_count": 1,
   "id": "initial_id",
   "metadata": {
    "collapsed": true,
    "ExecuteTime": {
     "end_time": "2024-07-21T03:23:05.469977Z",
     "start_time": "2024-07-21T03:23:04.076297Z"
    }
   },
   "outputs": [],
   "source": [
    "# load necessary libraries for processing and I/O\n",
    "import numpy as np\n",
    "import pandas as pd\n",
    "import seaborn as sns\n",
    "import matplotlib.pyplot as plt\n",
    "from scipy import stats\n",
    "\n",
    "# Load the Iris dataset from seaborn's built-in datasets\n",
    "iris = sns.load_dataset('iris')"
   ]
  },
  {
   "cell_type": "code",
   "execution_count": 3,
   "outputs": [
    {
     "data": {
      "text/plain": "   sepal_length  sepal_width  petal_length  petal_width species\n0           5.1          3.5           1.4          0.2  setosa\n1           4.9          3.0           1.4          0.2  setosa\n2           4.7          3.2           1.3          0.2  setosa\n3           4.6          3.1           1.5          0.2  setosa\n4           5.0          3.6           1.4          0.2  setosa\n5           5.4          3.9           1.7          0.4  setosa\n6           4.6          3.4           1.4          0.3  setosa\n7           5.0          3.4           1.5          0.2  setosa\n8           4.4          2.9           1.4          0.2  setosa\n9           4.9          3.1           1.5          0.1  setosa",
      "text/html": "<div>\n<style scoped>\n    .dataframe tbody tr th:only-of-type {\n        vertical-align: middle;\n    }\n\n    .dataframe tbody tr th {\n        vertical-align: top;\n    }\n\n    .dataframe thead th {\n        text-align: right;\n    }\n</style>\n<table border=\"1\" class=\"dataframe\">\n  <thead>\n    <tr style=\"text-align: right;\">\n      <th></th>\n      <th>sepal_length</th>\n      <th>sepal_width</th>\n      <th>petal_length</th>\n      <th>petal_width</th>\n      <th>species</th>\n    </tr>\n  </thead>\n  <tbody>\n    <tr>\n      <th>0</th>\n      <td>5.1</td>\n      <td>3.5</td>\n      <td>1.4</td>\n      <td>0.2</td>\n      <td>setosa</td>\n    </tr>\n    <tr>\n      <th>1</th>\n      <td>4.9</td>\n      <td>3.0</td>\n      <td>1.4</td>\n      <td>0.2</td>\n      <td>setosa</td>\n    </tr>\n    <tr>\n      <th>2</th>\n      <td>4.7</td>\n      <td>3.2</td>\n      <td>1.3</td>\n      <td>0.2</td>\n      <td>setosa</td>\n    </tr>\n    <tr>\n      <th>3</th>\n      <td>4.6</td>\n      <td>3.1</td>\n      <td>1.5</td>\n      <td>0.2</td>\n      <td>setosa</td>\n    </tr>\n    <tr>\n      <th>4</th>\n      <td>5.0</td>\n      <td>3.6</td>\n      <td>1.4</td>\n      <td>0.2</td>\n      <td>setosa</td>\n    </tr>\n    <tr>\n      <th>5</th>\n      <td>5.4</td>\n      <td>3.9</td>\n      <td>1.7</td>\n      <td>0.4</td>\n      <td>setosa</td>\n    </tr>\n    <tr>\n      <th>6</th>\n      <td>4.6</td>\n      <td>3.4</td>\n      <td>1.4</td>\n      <td>0.3</td>\n      <td>setosa</td>\n    </tr>\n    <tr>\n      <th>7</th>\n      <td>5.0</td>\n      <td>3.4</td>\n      <td>1.5</td>\n      <td>0.2</td>\n      <td>setosa</td>\n    </tr>\n    <tr>\n      <th>8</th>\n      <td>4.4</td>\n      <td>2.9</td>\n      <td>1.4</td>\n      <td>0.2</td>\n      <td>setosa</td>\n    </tr>\n    <tr>\n      <th>9</th>\n      <td>4.9</td>\n      <td>3.1</td>\n      <td>1.5</td>\n      <td>0.1</td>\n      <td>setosa</td>\n    </tr>\n  </tbody>\n</table>\n</div>"
     },
     "execution_count": 3,
     "metadata": {},
     "output_type": "execute_result"
    }
   ],
   "source": [
    "# see first 10 rows of iris dataset\n",
    "iris.head(10)"
   ],
   "metadata": {
    "collapsed": false,
    "ExecuteTime": {
     "end_time": "2024-07-21T03:23:20.462011Z",
     "start_time": "2024-07-21T03:23:20.455909Z"
    }
   },
   "id": "28a40ef272f222d8"
  },
  {
   "cell_type": "code",
   "execution_count": 4,
   "outputs": [
    {
     "data": {
      "text/plain": "       sepal_length  sepal_width  petal_length  petal_width\ncount    150.000000   150.000000    150.000000   150.000000\nmean       5.843333     3.057333      3.758000     1.199333\nstd        0.828066     0.435866      1.765298     0.762238\nmin        4.300000     2.000000      1.000000     0.100000\n25%        5.100000     2.800000      1.600000     0.300000\n50%        5.800000     3.000000      4.350000     1.300000\n75%        6.400000     3.300000      5.100000     1.800000\nmax        7.900000     4.400000      6.900000     2.500000",
      "text/html": "<div>\n<style scoped>\n    .dataframe tbody tr th:only-of-type {\n        vertical-align: middle;\n    }\n\n    .dataframe tbody tr th {\n        vertical-align: top;\n    }\n\n    .dataframe thead th {\n        text-align: right;\n    }\n</style>\n<table border=\"1\" class=\"dataframe\">\n  <thead>\n    <tr style=\"text-align: right;\">\n      <th></th>\n      <th>sepal_length</th>\n      <th>sepal_width</th>\n      <th>petal_length</th>\n      <th>petal_width</th>\n    </tr>\n  </thead>\n  <tbody>\n    <tr>\n      <th>count</th>\n      <td>150.000000</td>\n      <td>150.000000</td>\n      <td>150.000000</td>\n      <td>150.000000</td>\n    </tr>\n    <tr>\n      <th>mean</th>\n      <td>5.843333</td>\n      <td>3.057333</td>\n      <td>3.758000</td>\n      <td>1.199333</td>\n    </tr>\n    <tr>\n      <th>std</th>\n      <td>0.828066</td>\n      <td>0.435866</td>\n      <td>1.765298</td>\n      <td>0.762238</td>\n    </tr>\n    <tr>\n      <th>min</th>\n      <td>4.300000</td>\n      <td>2.000000</td>\n      <td>1.000000</td>\n      <td>0.100000</td>\n    </tr>\n    <tr>\n      <th>25%</th>\n      <td>5.100000</td>\n      <td>2.800000</td>\n      <td>1.600000</td>\n      <td>0.300000</td>\n    </tr>\n    <tr>\n      <th>50%</th>\n      <td>5.800000</td>\n      <td>3.000000</td>\n      <td>4.350000</td>\n      <td>1.300000</td>\n    </tr>\n    <tr>\n      <th>75%</th>\n      <td>6.400000</td>\n      <td>3.300000</td>\n      <td>5.100000</td>\n      <td>1.800000</td>\n    </tr>\n    <tr>\n      <th>max</th>\n      <td>7.900000</td>\n      <td>4.400000</td>\n      <td>6.900000</td>\n      <td>2.500000</td>\n    </tr>\n  </tbody>\n</table>\n</div>"
     },
     "execution_count": 4,
     "metadata": {},
     "output_type": "execute_result"
    }
   ],
   "source": [
    "# summary statistics of numerical data in iris dataset \n",
    "# 25%, 50%, and 75% refer to the 25th, 50th, and 75th percentiles respectively\n",
    "iris.describe()"
   ],
   "metadata": {
    "collapsed": false,
    "ExecuteTime": {
     "end_time": "2024-07-21T03:23:35.015543Z",
     "start_time": "2024-07-21T03:23:35.002157Z"
    }
   },
   "id": "c21143b9fe816509"
  },
  {
   "cell_type": "code",
   "execution_count": 8,
   "outputs": [],
   "source": [
    "# Step 3: Statistical Hypothesis Testing\n",
    "# 3.1 T-Test\n",
    "# Filter data for the two species\n",
    "setosa_sepal_length = iris[iris['species'] == 'setosa']['sepal_length']\n",
    "versicolor_sepal_length = iris[iris['species'] == 'versicolor']['sepal_length']"
   ],
   "metadata": {
    "collapsed": false,
    "ExecuteTime": {
     "end_time": "2024-07-21T03:25:45.881761Z",
     "start_time": "2024-07-21T03:25:45.878082Z"
    }
   },
   "id": "eaae5c5cfafd772f"
  },
  {
   "cell_type": "code",
   "execution_count": 9,
   "outputs": [
    {
     "name": "stdout",
     "output_type": "stream",
     "text": [
      "T-Test between Setosa and Versicolor Sepal Lengths:\n",
      "T-Statistic: -10.52098626754911, P-Value: 8.985235037487079e-18\n"
     ]
    }
   ],
   "source": [
    "t_stat, p_value = stats.ttest_ind(setosa_sepal_length, versicolor_sepal_length)\n",
    "print(f\"T-Test between Setosa and Versicolor Sepal Lengths:\\nT-Statistic: {t_stat}, P-Value: {p_value}\")"
   ],
   "metadata": {
    "collapsed": false,
    "ExecuteTime": {
     "end_time": "2024-07-21T03:25:54.570722Z",
     "start_time": "2024-07-21T03:25:54.565666Z"
    }
   },
   "id": "a0594d305e96deb1"
  },
  {
   "cell_type": "markdown",
   "source": [
    "As we can see from the above t-test, the sepal lengths of setosa and versicolor are statistically significantly different from one another at a significance level of 0.05 (p value is 0.00000000000000000895, so much lower than 5). As an excercise, test if the petal lengths are also significantly different from one another"
   ],
   "metadata": {
    "collapsed": false
   },
   "id": "2ce517aeb9023459"
  },
  {
   "cell_type": "code",
   "execution_count": 11,
   "outputs": [
    {
     "name": "stdout",
     "output_type": "stream",
     "text": [
      "Pearson Correlation between Sepal Length and Petal Length:\n",
      "Correlation Coefficient: 0.8717537758865831, P-Value: 1.0386674194498827e-47\n"
     ]
    }
   ],
   "source": [
    "# Step 4: Correlation Analysis\n",
    "# 4.1 Pearson Correlation\n",
    "# Calculate Pearson correlation\n",
    "pearson_corr, p_value = stats.pearsonr(iris['sepal_length'], iris['petal_length'])\n",
    "print(f\"Pearson Correlation between Sepal Length and Petal Length:\\nCorrelation Coefficient: {pearson_corr}, P-Value: {p_value}\")\n"
   ],
   "metadata": {
    "collapsed": false,
    "ExecuteTime": {
     "end_time": "2024-07-21T03:28:36.362730Z",
     "start_time": "2024-07-21T03:28:36.351184Z"
    }
   },
   "id": "c79f635a402a7cd8"
  },
  {
   "cell_type": "markdown",
   "source": [
    "The sepal length and petal lengths are highly correlated, with a low p-value, meaning that it is unlikely that it is due to chance"
   ],
   "metadata": {
    "collapsed": false
   },
   "id": "9ad7b46794c2bf06"
  },
  {
   "cell_type": "code",
   "execution_count": 12,
   "outputs": [
    {
     "name": "stdout",
     "output_type": "stream",
     "text": [
      "Spearman Correlation between Sepal Length and Petal Length:\n",
      "Correlation Coefficient: 0.881898126434986, P-Value: 3.4430872780470036e-50\n"
     ]
    }
   ],
   "source": [
    "# 4.2 Spearman Correlation\n",
    "# Calculate Spearman correlation\n",
    "spearman_corr, p_value = stats.spearmanr(iris['sepal_length'], iris['petal_length'])\n",
    "print(f\"Spearman Correlation between Sepal Length and Petal Length:\\nCorrelation Coefficient: {spearman_corr}, P-Value: {p_value}\")\n"
   ],
   "metadata": {
    "collapsed": false,
    "ExecuteTime": {
     "end_time": "2024-07-21T03:29:37.413335Z",
     "start_time": "2024-07-21T03:29:37.405286Z"
    }
   },
   "id": "93c99d57ea96e73f"
  },
  {
   "cell_type": "code",
   "execution_count": 15,
   "outputs": [
    {
     "data": {
      "text/plain": "<Figure size 576x432 with 2 Axes>",
      "image/png": "[encoded data removed]"
     },
     "metadata": {},
     "output_type": "display_data"
    }
   ],
   "source": [
    "corr_matrix = iris.drop(['species'], axis=1).corr()\n",
    "\n",
    "# Plot the correlation matrix\n",
    "plt.figure(figsize=(8, 6))\n",
    "sns.heatmap(corr_matrix, annot=True, cmap='coolwarm', linewidths=0.5)\n",
    "plt.title('Correlation Matrix of Iris Dataset')\n",
    "plt.show()"
   ],
   "metadata": {
    "collapsed": false,
    "ExecuteTime": {
     "end_time": "2024-07-21T03:30:20.293120Z",
     "start_time": "2024-07-21T03:30:20.149739Z"
    }
   },
   "id": "c366678fe2bd117a"
  },
  {
   "cell_type": "markdown",
   "source": [
    "It is often useful to identify correlations between the numeric fields in a dataset and to visualize it as a heatmap. Notice that all columns are perfectly correlated with themselves. We excluded the species column since it is non-numerical. As an excercise, research the [Phi-k correlation](https://phik.readthedocs.io/en/latest/) and use it to analyze the correlations between the columns in the iris dataset"
   ],
   "metadata": {
    "collapsed": false
   },
   "id": "e13197762afdb868"
  },
  {
   "cell_type": "code",
   "execution_count": null,
   "outputs": [],
   "source": [],
   "metadata": {
    "collapsed": false
   },
   "id": "6c7da29fe051ab45"
  }
 ],
 "metadata": {
  "kernelspec": {
   "display_name": "Python 3",
   "language": "python",
   "name": "python3"
  },
  "language_info": {
   "codemirror_mode": {
    "name": "ipython",
    "version": 2
   },
   "file_extension": ".py",
   "mimetype": "text/x-python",
   "name": "python",
   "nbconvert_exporter": "python",
   "pygments_lexer": "ipython2",
   "version": "2.7.6"
  }
 },
 "nbformat": 4,
 "nbformat_minor": 5
}
